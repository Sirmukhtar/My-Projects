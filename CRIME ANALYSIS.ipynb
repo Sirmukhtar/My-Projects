{
 "cells": [
  {
   "cell_type": "code",
   "execution_count": 2,
   "metadata": {},
   "outputs": [],
   "source": [
    "import pandas as pd\n",
    "import numpy as np\n",
    "from matplotlib import pyplot as plt\n",
    "%matplotlib inline"
   ]
  },
  {
   "cell_type": "code",
   "execution_count": 3,
   "metadata": {
    "scrolled": true
   },
   "outputs": [
    {
     "name": "stderr",
     "output_type": "stream",
     "text": [
      "C:\\Users\\USER\\anaconda3\\lib\\site-packages\\IPython\\core\\interactiveshell.py:3146: DtypeWarning: Columns (0,2,6,12) have mixed types.Specify dtype option on import or set low_memory=False.\n",
      "  has_raised = await self.run_ast_nodes(code_ast.body, cell_name,\n"
     ]
    },
    {
     "data": {
      "text/html": [
       "<div>\n",
       "<style scoped>\n",
       "    .dataframe tbody tr th:only-of-type {\n",
       "        vertical-align: middle;\n",
       "    }\n",
       "\n",
       "    .dataframe tbody tr th {\n",
       "        vertical-align: top;\n",
       "    }\n",
       "\n",
       "    .dataframe thead th {\n",
       "        text-align: right;\n",
       "    }\n",
       "</style>\n",
       "<table border=\"1\" class=\"dataframe\">\n",
       "  <thead>\n",
       "    <tr style=\"text-align: right;\">\n",
       "      <th></th>\n",
       "      <th>INCIDENT_NUMBER</th>\n",
       "      <th>OFFENSE_CODE</th>\n",
       "      <th>OFFENSE_CODE_GROUP</th>\n",
       "      <th>OFFENSE_DESCRIPTION</th>\n",
       "      <th>DISTRICT</th>\n",
       "      <th>REPORTING_AREA</th>\n",
       "      <th>SHOOTING</th>\n",
       "      <th>OCCURRED_ON_DATE</th>\n",
       "      <th>YEAR</th>\n",
       "      <th>MONTH</th>\n",
       "      <th>DAY_OF_WEEK</th>\n",
       "      <th>HOUR</th>\n",
       "      <th>UCR_PART</th>\n",
       "      <th>STREET</th>\n",
       "      <th>Lat</th>\n",
       "      <th>Long</th>\n",
       "      <th>Location</th>\n",
       "    </tr>\n",
       "  </thead>\n",
       "  <tbody>\n",
       "    <tr>\n",
       "      <th>0</th>\n",
       "      <td>TESTTEST2</td>\n",
       "      <td>423</td>\n",
       "      <td>NaN</td>\n",
       "      <td>ASSAULT - AGGRAVATED</td>\n",
       "      <td>External</td>\n",
       "      <td></td>\n",
       "      <td>0</td>\n",
       "      <td>2019-10-16 00:00:00</td>\n",
       "      <td>2019</td>\n",
       "      <td>10</td>\n",
       "      <td>Wednesday</td>\n",
       "      <td>0</td>\n",
       "      <td>NaN</td>\n",
       "      <td>RIVERVIEW DR</td>\n",
       "      <td>NaN</td>\n",
       "      <td>NaN</td>\n",
       "      <td>(0.00000000, 0.00000000)</td>\n",
       "    </tr>\n",
       "    <tr>\n",
       "      <th>1</th>\n",
       "      <td>S97333701</td>\n",
       "      <td>3301</td>\n",
       "      <td>NaN</td>\n",
       "      <td>VERBAL DISPUTE</td>\n",
       "      <td>C6</td>\n",
       "      <td>915</td>\n",
       "      <td>0</td>\n",
       "      <td>2020-07-18 14:34:00</td>\n",
       "      <td>2020</td>\n",
       "      <td>7</td>\n",
       "      <td>Saturday</td>\n",
       "      <td>14</td>\n",
       "      <td>NaN</td>\n",
       "      <td>MARY BOYLE WAY</td>\n",
       "      <td>42.330813</td>\n",
       "      <td>-71.051368</td>\n",
       "      <td>(42.33081300, -71.05136800)</td>\n",
       "    </tr>\n",
       "    <tr>\n",
       "      <th>2</th>\n",
       "      <td>S47513131</td>\n",
       "      <td>2647</td>\n",
       "      <td>NaN</td>\n",
       "      <td>THREATS TO DO BODILY HARM</td>\n",
       "      <td>E18</td>\n",
       "      <td>530</td>\n",
       "      <td>0</td>\n",
       "      <td>2020-06-24 10:15:00</td>\n",
       "      <td>2020</td>\n",
       "      <td>6</td>\n",
       "      <td>Wednesday</td>\n",
       "      <td>10</td>\n",
       "      <td>NaN</td>\n",
       "      <td>READVILLE ST</td>\n",
       "      <td>42.239491</td>\n",
       "      <td>-71.135954</td>\n",
       "      <td>(42.23949100, -71.13595400)</td>\n",
       "    </tr>\n",
       "    <tr>\n",
       "      <th>3</th>\n",
       "      <td>I92102201</td>\n",
       "      <td>3301</td>\n",
       "      <td>NaN</td>\n",
       "      <td>VERBAL DISPUTE</td>\n",
       "      <td>E13</td>\n",
       "      <td>583</td>\n",
       "      <td>0</td>\n",
       "      <td>2019-12-20 03:08:00</td>\n",
       "      <td>2019</td>\n",
       "      <td>12</td>\n",
       "      <td>Friday</td>\n",
       "      <td>3</td>\n",
       "      <td>NaN</td>\n",
       "      <td>DAY ST</td>\n",
       "      <td>42.325122</td>\n",
       "      <td>-71.107779</td>\n",
       "      <td>(42.32512200, -71.10777900)</td>\n",
       "    </tr>\n",
       "    <tr>\n",
       "      <th>4</th>\n",
       "      <td>I92097173</td>\n",
       "      <td>3115</td>\n",
       "      <td>NaN</td>\n",
       "      <td>INVESTIGATE PERSON</td>\n",
       "      <td>C11</td>\n",
       "      <td>355</td>\n",
       "      <td>0</td>\n",
       "      <td>2019-10-23 00:00:00</td>\n",
       "      <td>2019</td>\n",
       "      <td>10</td>\n",
       "      <td>Wednesday</td>\n",
       "      <td>0</td>\n",
       "      <td>NaN</td>\n",
       "      <td>GIBSON ST</td>\n",
       "      <td>42.297555</td>\n",
       "      <td>-71.059709</td>\n",
       "      <td>(42.29755500, -71.05970900)</td>\n",
       "    </tr>\n",
       "  </tbody>\n",
       "</table>\n",
       "</div>"
      ],
      "text/plain": [
       "  INCIDENT_NUMBER  OFFENSE_CODE OFFENSE_CODE_GROUP        OFFENSE_DESCRIPTION  \\\n",
       "0       TESTTEST2           423                NaN       ASSAULT - AGGRAVATED   \n",
       "1       S97333701          3301                NaN             VERBAL DISPUTE   \n",
       "2       S47513131          2647                NaN  THREATS TO DO BODILY HARM   \n",
       "3       I92102201          3301                NaN             VERBAL DISPUTE   \n",
       "4       I92097173          3115                NaN         INVESTIGATE PERSON   \n",
       "\n",
       "   DISTRICT REPORTING_AREA SHOOTING     OCCURRED_ON_DATE  YEAR  MONTH  \\\n",
       "0  External                       0  2019-10-16 00:00:00  2019     10   \n",
       "1        C6            915        0  2020-07-18 14:34:00  2020      7   \n",
       "2       E18            530        0  2020-06-24 10:15:00  2020      6   \n",
       "3       E13            583        0  2019-12-20 03:08:00  2019     12   \n",
       "4       C11            355        0  2019-10-23 00:00:00  2019     10   \n",
       "\n",
       "  DAY_OF_WEEK  HOUR UCR_PART          STREET        Lat       Long  \\\n",
       "0   Wednesday     0      NaN    RIVERVIEW DR        NaN        NaN   \n",
       "1    Saturday    14      NaN  MARY BOYLE WAY  42.330813 -71.051368   \n",
       "2   Wednesday    10      NaN    READVILLE ST  42.239491 -71.135954   \n",
       "3      Friday     3      NaN          DAY ST  42.325122 -71.107779   \n",
       "4   Wednesday     0      NaN       GIBSON ST  42.297555 -71.059709   \n",
       "\n",
       "                      Location  \n",
       "0     (0.00000000, 0.00000000)  \n",
       "1  (42.33081300, -71.05136800)  \n",
       "2  (42.23949100, -71.13595400)  \n",
       "3  (42.32512200, -71.10777900)  \n",
       "4  (42.29755500, -71.05970900)  "
      ]
     },
     "execution_count": 3,
     "metadata": {},
     "output_type": "execute_result"
    }
   ],
   "source": [
    "df=pd.read_csv(r'''C:\\Users\\USER\\Desktop\\dataset\\boston.csv''')\n",
    "df.head()"
   ]
  },
  {
   "cell_type": "markdown",
   "metadata": {},
   "source": [
    "## DATA CLEANING PROCESS"
   ]
  },
  {
   "cell_type": "code",
   "execution_count": 4,
   "metadata": {},
   "outputs": [
    {
     "data": {
      "text/plain": [
       "(529027, 17)"
      ]
     },
     "execution_count": 4,
     "metadata": {},
     "output_type": "execute_result"
    }
   ],
   "source": [
    "df.shape"
   ]
  },
  {
   "cell_type": "code",
   "execution_count": 5,
   "metadata": {},
   "outputs": [
    {
     "data": {
      "text/plain": [
       "INCIDENT_NUMBER             0\n",
       "OFFENSE_CODE                0\n",
       "OFFENSE_CODE_GROUP     102188\n",
       "OFFENSE_DESCRIPTION         0\n",
       "DISTRICT                 2463\n",
       "REPORTING_AREA              0\n",
       "SHOOTING               425093\n",
       "OCCURRED_ON_DATE            0\n",
       "YEAR                        0\n",
       "MONTH                       0\n",
       "DAY_OF_WEEK                 0\n",
       "HOUR                        0\n",
       "UCR_PART               102298\n",
       "STREET                  21487\n",
       "Lat                     30305\n",
       "Long                    30305\n",
       "Location                    0\n",
       "dtype: int64"
      ]
     },
     "execution_count": 5,
     "metadata": {},
     "output_type": "execute_result"
    }
   ],
   "source": [
    "df.isnull().sum()"
   ]
  },
  {
   "cell_type": "code",
   "execution_count": 6,
   "metadata": {},
   "outputs": [
    {
     "data": {
      "text/html": [
       "<div>\n",
       "<style scoped>\n",
       "    .dataframe tbody tr th:only-of-type {\n",
       "        vertical-align: middle;\n",
       "    }\n",
       "\n",
       "    .dataframe tbody tr th {\n",
       "        vertical-align: top;\n",
       "    }\n",
       "\n",
       "    .dataframe thead th {\n",
       "        text-align: right;\n",
       "    }\n",
       "</style>\n",
       "<table border=\"1\" class=\"dataframe\">\n",
       "  <thead>\n",
       "    <tr style=\"text-align: right;\">\n",
       "      <th></th>\n",
       "      <th>INCIDENT_NUMBER</th>\n",
       "      <th>OFFENSE_CODE</th>\n",
       "      <th>OFFENSE_DESCRIPTION</th>\n",
       "      <th>DISTRICT</th>\n",
       "      <th>REPORTING_AREA</th>\n",
       "      <th>OCCURRED_ON_DATE</th>\n",
       "      <th>YEAR</th>\n",
       "      <th>MONTH</th>\n",
       "      <th>DAY_OF_WEEK</th>\n",
       "      <th>HOUR</th>\n",
       "      <th>STREET</th>\n",
       "      <th>Lat</th>\n",
       "      <th>Long</th>\n",
       "      <th>Location</th>\n",
       "    </tr>\n",
       "  </thead>\n",
       "  <tbody>\n",
       "    <tr>\n",
       "      <th>0</th>\n",
       "      <td>TESTTEST2</td>\n",
       "      <td>423</td>\n",
       "      <td>ASSAULT - AGGRAVATED</td>\n",
       "      <td>External</td>\n",
       "      <td></td>\n",
       "      <td>2019-10-16 00:00:00</td>\n",
       "      <td>2019</td>\n",
       "      <td>10</td>\n",
       "      <td>Wednesday</td>\n",
       "      <td>0</td>\n",
       "      <td>RIVERVIEW DR</td>\n",
       "      <td>NaN</td>\n",
       "      <td>NaN</td>\n",
       "      <td>(0.00000000, 0.00000000)</td>\n",
       "    </tr>\n",
       "    <tr>\n",
       "      <th>1</th>\n",
       "      <td>S97333701</td>\n",
       "      <td>3301</td>\n",
       "      <td>VERBAL DISPUTE</td>\n",
       "      <td>C6</td>\n",
       "      <td>915</td>\n",
       "      <td>2020-07-18 14:34:00</td>\n",
       "      <td>2020</td>\n",
       "      <td>7</td>\n",
       "      <td>Saturday</td>\n",
       "      <td>14</td>\n",
       "      <td>MARY BOYLE WAY</td>\n",
       "      <td>42.330813</td>\n",
       "      <td>-71.051368</td>\n",
       "      <td>(42.33081300, -71.05136800)</td>\n",
       "    </tr>\n",
       "    <tr>\n",
       "      <th>2</th>\n",
       "      <td>S47513131</td>\n",
       "      <td>2647</td>\n",
       "      <td>THREATS TO DO BODILY HARM</td>\n",
       "      <td>E18</td>\n",
       "      <td>530</td>\n",
       "      <td>2020-06-24 10:15:00</td>\n",
       "      <td>2020</td>\n",
       "      <td>6</td>\n",
       "      <td>Wednesday</td>\n",
       "      <td>10</td>\n",
       "      <td>READVILLE ST</td>\n",
       "      <td>42.239491</td>\n",
       "      <td>-71.135954</td>\n",
       "      <td>(42.23949100, -71.13595400)</td>\n",
       "    </tr>\n",
       "    <tr>\n",
       "      <th>3</th>\n",
       "      <td>I92102201</td>\n",
       "      <td>3301</td>\n",
       "      <td>VERBAL DISPUTE</td>\n",
       "      <td>E13</td>\n",
       "      <td>583</td>\n",
       "      <td>2019-12-20 03:08:00</td>\n",
       "      <td>2019</td>\n",
       "      <td>12</td>\n",
       "      <td>Friday</td>\n",
       "      <td>3</td>\n",
       "      <td>DAY ST</td>\n",
       "      <td>42.325122</td>\n",
       "      <td>-71.107779</td>\n",
       "      <td>(42.32512200, -71.10777900)</td>\n",
       "    </tr>\n",
       "    <tr>\n",
       "      <th>4</th>\n",
       "      <td>I92097173</td>\n",
       "      <td>3115</td>\n",
       "      <td>INVESTIGATE PERSON</td>\n",
       "      <td>C11</td>\n",
       "      <td>355</td>\n",
       "      <td>2019-10-23 00:00:00</td>\n",
       "      <td>2019</td>\n",
       "      <td>10</td>\n",
       "      <td>Wednesday</td>\n",
       "      <td>0</td>\n",
       "      <td>GIBSON ST</td>\n",
       "      <td>42.297555</td>\n",
       "      <td>-71.059709</td>\n",
       "      <td>(42.29755500, -71.05970900)</td>\n",
       "    </tr>\n",
       "  </tbody>\n",
       "</table>\n",
       "</div>"
      ],
      "text/plain": [
       "  INCIDENT_NUMBER  OFFENSE_CODE        OFFENSE_DESCRIPTION  DISTRICT  \\\n",
       "0       TESTTEST2           423       ASSAULT - AGGRAVATED  External   \n",
       "1       S97333701          3301             VERBAL DISPUTE        C6   \n",
       "2       S47513131          2647  THREATS TO DO BODILY HARM       E18   \n",
       "3       I92102201          3301             VERBAL DISPUTE       E13   \n",
       "4       I92097173          3115         INVESTIGATE PERSON       C11   \n",
       "\n",
       "  REPORTING_AREA     OCCURRED_ON_DATE  YEAR  MONTH DAY_OF_WEEK  HOUR  \\\n",
       "0                 2019-10-16 00:00:00  2019     10   Wednesday     0   \n",
       "1            915  2020-07-18 14:34:00  2020      7    Saturday    14   \n",
       "2            530  2020-06-24 10:15:00  2020      6   Wednesday    10   \n",
       "3            583  2019-12-20 03:08:00  2019     12      Friday     3   \n",
       "4            355  2019-10-23 00:00:00  2019     10   Wednesday     0   \n",
       "\n",
       "           STREET        Lat       Long                     Location  \n",
       "0    RIVERVIEW DR        NaN        NaN     (0.00000000, 0.00000000)  \n",
       "1  MARY BOYLE WAY  42.330813 -71.051368  (42.33081300, -71.05136800)  \n",
       "2    READVILLE ST  42.239491 -71.135954  (42.23949100, -71.13595400)  \n",
       "3          DAY ST  42.325122 -71.107779  (42.32512200, -71.10777900)  \n",
       "4       GIBSON ST  42.297555 -71.059709  (42.29755500, -71.05970900)  "
      ]
     },
     "execution_count": 6,
     "metadata": {},
     "output_type": "execute_result"
    }
   ],
   "source": [
    "df.drop(['OFFENSE_CODE_GROUP','SHOOTING','UCR_PART'], axis= 'columns', inplace=True)\n",
    "df.head()"
   ]
  },
  {
   "cell_type": "code",
   "execution_count": 7,
   "metadata": {},
   "outputs": [
    {
     "data": {
      "text/plain": [
       "(529027, 14)"
      ]
     },
     "execution_count": 7,
     "metadata": {},
     "output_type": "execute_result"
    }
   ],
   "source": [
    "df.shape"
   ]
  },
  {
   "cell_type": "code",
   "execution_count": 8,
   "metadata": {},
   "outputs": [
    {
     "data": {
      "text/plain": [
       "INCIDENT_NUMBER            0\n",
       "OFFENSE_CODE               0\n",
       "OFFENSE_DESCRIPTION        0\n",
       "DISTRICT                2463\n",
       "REPORTING_AREA             0\n",
       "OCCURRED_ON_DATE           0\n",
       "YEAR                       0\n",
       "MONTH                      0\n",
       "DAY_OF_WEEK                0\n",
       "HOUR                       0\n",
       "STREET                 21487\n",
       "Lat                    30305\n",
       "Long                   30305\n",
       "Location                   0\n",
       "dtype: int64"
      ]
     },
     "execution_count": 8,
     "metadata": {},
     "output_type": "execute_result"
    }
   ],
   "source": [
    "df.isnull().sum()"
   ]
  },
  {
   "cell_type": "code",
   "execution_count": 9,
   "metadata": {},
   "outputs": [],
   "source": [
    "df.dropna(inplace=True)"
   ]
  },
  {
   "cell_type": "code",
   "execution_count": 10,
   "metadata": {},
   "outputs": [
    {
     "data": {
      "text/plain": [
       "INCIDENT_NUMBER        0\n",
       "OFFENSE_CODE           0\n",
       "OFFENSE_DESCRIPTION    0\n",
       "DISTRICT               0\n",
       "REPORTING_AREA         0\n",
       "OCCURRED_ON_DATE       0\n",
       "YEAR                   0\n",
       "MONTH                  0\n",
       "DAY_OF_WEEK            0\n",
       "HOUR                   0\n",
       "STREET                 0\n",
       "Lat                    0\n",
       "Long                   0\n",
       "Location               0\n",
       "dtype: int64"
      ]
     },
     "execution_count": 10,
     "metadata": {},
     "output_type": "execute_result"
    }
   ],
   "source": [
    "df.isnull().sum()"
   ]
  },
  {
   "cell_type": "code",
   "execution_count": 11,
   "metadata": {},
   "outputs": [
    {
     "data": {
      "text/plain": [
       "(486653, 14)"
      ]
     },
     "execution_count": 11,
     "metadata": {},
     "output_type": "execute_result"
    }
   ],
   "source": [
    "df.shape"
   ]
  },
  {
   "cell_type": "code",
   "execution_count": 12,
   "metadata": {},
   "outputs": [
    {
     "data": {
      "text/html": [
       "<div>\n",
       "<style scoped>\n",
       "    .dataframe tbody tr th:only-of-type {\n",
       "        vertical-align: middle;\n",
       "    }\n",
       "\n",
       "    .dataframe tbody tr th {\n",
       "        vertical-align: top;\n",
       "    }\n",
       "\n",
       "    .dataframe thead th {\n",
       "        text-align: right;\n",
       "    }\n",
       "</style>\n",
       "<table border=\"1\" class=\"dataframe\">\n",
       "  <thead>\n",
       "    <tr style=\"text-align: right;\">\n",
       "      <th></th>\n",
       "      <th>INCIDENT_NUMBER</th>\n",
       "      <th>OFFENSE_CODE</th>\n",
       "      <th>OFFENSE_DESCRIPTION</th>\n",
       "      <th>DISTRICT</th>\n",
       "      <th>REPORTING_AREA</th>\n",
       "      <th>OCCURRED_ON_DATE</th>\n",
       "      <th>YEAR</th>\n",
       "      <th>MONTH</th>\n",
       "      <th>DAY_OF_WEEK</th>\n",
       "      <th>HOUR</th>\n",
       "      <th>STREET</th>\n",
       "      <th>Lat</th>\n",
       "      <th>Long</th>\n",
       "      <th>Location</th>\n",
       "    </tr>\n",
       "  </thead>\n",
       "  <tbody>\n",
       "    <tr>\n",
       "      <th>1</th>\n",
       "      <td>S97333701</td>\n",
       "      <td>3301</td>\n",
       "      <td>VERBAL DISPUTE</td>\n",
       "      <td>C6</td>\n",
       "      <td>915</td>\n",
       "      <td>2020-07-18 14:34:00</td>\n",
       "      <td>2020</td>\n",
       "      <td>7</td>\n",
       "      <td>Saturday</td>\n",
       "      <td>14</td>\n",
       "      <td>MARY BOYLE WAY</td>\n",
       "      <td>42.330813</td>\n",
       "      <td>-71.051368</td>\n",
       "      <td>(42.33081300, -71.05136800)</td>\n",
       "    </tr>\n",
       "    <tr>\n",
       "      <th>2</th>\n",
       "      <td>S47513131</td>\n",
       "      <td>2647</td>\n",
       "      <td>THREATS TO DO BODILY HARM</td>\n",
       "      <td>E18</td>\n",
       "      <td>530</td>\n",
       "      <td>2020-06-24 10:15:00</td>\n",
       "      <td>2020</td>\n",
       "      <td>6</td>\n",
       "      <td>Wednesday</td>\n",
       "      <td>10</td>\n",
       "      <td>READVILLE ST</td>\n",
       "      <td>42.239491</td>\n",
       "      <td>-71.135954</td>\n",
       "      <td>(42.23949100, -71.13595400)</td>\n",
       "    </tr>\n",
       "    <tr>\n",
       "      <th>3</th>\n",
       "      <td>I92102201</td>\n",
       "      <td>3301</td>\n",
       "      <td>VERBAL DISPUTE</td>\n",
       "      <td>E13</td>\n",
       "      <td>583</td>\n",
       "      <td>2019-12-20 03:08:00</td>\n",
       "      <td>2019</td>\n",
       "      <td>12</td>\n",
       "      <td>Friday</td>\n",
       "      <td>3</td>\n",
       "      <td>DAY ST</td>\n",
       "      <td>42.325122</td>\n",
       "      <td>-71.107779</td>\n",
       "      <td>(42.32512200, -71.10777900)</td>\n",
       "    </tr>\n",
       "    <tr>\n",
       "      <th>4</th>\n",
       "      <td>I92097173</td>\n",
       "      <td>3115</td>\n",
       "      <td>INVESTIGATE PERSON</td>\n",
       "      <td>C11</td>\n",
       "      <td>355</td>\n",
       "      <td>2019-10-23 00:00:00</td>\n",
       "      <td>2019</td>\n",
       "      <td>10</td>\n",
       "      <td>Wednesday</td>\n",
       "      <td>0</td>\n",
       "      <td>GIBSON ST</td>\n",
       "      <td>42.297555</td>\n",
       "      <td>-71.059709</td>\n",
       "      <td>(42.29755500, -71.05970900)</td>\n",
       "    </tr>\n",
       "    <tr>\n",
       "      <th>5</th>\n",
       "      <td>I92094519</td>\n",
       "      <td>3126</td>\n",
       "      <td>WARRANT ARREST - OUTSIDE OF BOSTON WARRANT</td>\n",
       "      <td>D14</td>\n",
       "      <td>765</td>\n",
       "      <td>2019-11-22 07:50:00</td>\n",
       "      <td>2019</td>\n",
       "      <td>11</td>\n",
       "      <td>Friday</td>\n",
       "      <td>7</td>\n",
       "      <td>BROOKS ST</td>\n",
       "      <td>42.355120</td>\n",
       "      <td>-71.162678</td>\n",
       "      <td>(42.35512000, -71.16267800)</td>\n",
       "    </tr>\n",
       "  </tbody>\n",
       "</table>\n",
       "</div>"
      ],
      "text/plain": [
       "  INCIDENT_NUMBER  OFFENSE_CODE                         OFFENSE_DESCRIPTION  \\\n",
       "1       S97333701          3301                              VERBAL DISPUTE   \n",
       "2       S47513131          2647                   THREATS TO DO BODILY HARM   \n",
       "3       I92102201          3301                              VERBAL DISPUTE   \n",
       "4       I92097173          3115                          INVESTIGATE PERSON   \n",
       "5       I92094519          3126  WARRANT ARREST - OUTSIDE OF BOSTON WARRANT   \n",
       "\n",
       "  DISTRICT REPORTING_AREA     OCCURRED_ON_DATE  YEAR  MONTH DAY_OF_WEEK  HOUR  \\\n",
       "1       C6            915  2020-07-18 14:34:00  2020      7    Saturday    14   \n",
       "2      E18            530  2020-06-24 10:15:00  2020      6   Wednesday    10   \n",
       "3      E13            583  2019-12-20 03:08:00  2019     12      Friday     3   \n",
       "4      C11            355  2019-10-23 00:00:00  2019     10   Wednesday     0   \n",
       "5      D14            765  2019-11-22 07:50:00  2019     11      Friday     7   \n",
       "\n",
       "           STREET        Lat       Long                     Location  \n",
       "1  MARY BOYLE WAY  42.330813 -71.051368  (42.33081300, -71.05136800)  \n",
       "2    READVILLE ST  42.239491 -71.135954  (42.23949100, -71.13595400)  \n",
       "3          DAY ST  42.325122 -71.107779  (42.32512200, -71.10777900)  \n",
       "4       GIBSON ST  42.297555 -71.059709  (42.29755500, -71.05970900)  \n",
       "5       BROOKS ST  42.355120 -71.162678  (42.35512000, -71.16267800)  "
      ]
     },
     "execution_count": 12,
     "metadata": {},
     "output_type": "execute_result"
    }
   ],
   "source": [
    "df.head()"
   ]
  },
  {
   "cell_type": "markdown",
   "metadata": {},
   "source": [
    "This is a crime report in the city of bOston. The federal goverment are trying to figure out how to tackle the increasing crime rate in Boston. Therefore, answers to the following questions are needed\n",
    "1. what is the most common crime noticed in the city?\n",
    "2. what year has the highest amount of crime recorded?\n",
    "3. prior to the above question, in what month did most of the crime take place and on what day?\n",
    "4. around what hour are these crimes likely to be committed?"
   ]
  },
  {
   "cell_type": "code",
   "execution_count": 13,
   "metadata": {},
   "outputs": [
    {
     "data": {
      "text/plain": [
       "INVESTIGATE PERSON                       31440\n",
       "SICK/INJURED/MEDICAL - PERSON            27820\n",
       "VERBAL DISPUTE                           26721\n",
       "M/V - LEAVING SCENE - PROPERTY DAMAGE    22767\n",
       "VANDALISM                                22735\n",
       "ASSAULT SIMPLE - BATTERY                 18625\n",
       "INVESTIGATE PROPERTY                     18002\n",
       "TOWED MOTOR VEHICLE                      16803\n",
       "THREATS TO DO BODILY HARM                14435\n",
       "LARCENY THEFT FROM BUILDING              13868\n",
       "Name: OFFENSE_DESCRIPTION, dtype: int64"
      ]
     },
     "execution_count": 13,
     "metadata": {},
     "output_type": "execute_result"
    }
   ],
   "source": [
    "df.OFFENSE_DESCRIPTION.value_counts().head(10)"
   ]
  },
  {
   "cell_type": "markdown",
   "metadata": {},
   "source": [
    "## What is the most common crime noticed in the city?\n",
    "\n",
    "According to our analysis, the most common crime in Boston is the VERBAL ABUSE kind. But the most reason for 911 calls are to report a sick,injured or need medical attention immediately. The following are the five major crimes in the city of Boston:\n",
    "\n",
    " * VERBAL DISPTE\n",
    " * PROPERTY DAMAGE\n",
    " * VANDALISM\n",
    " * BATTERY\n",
    " * THREATS TO BODILY HARM"
   ]
  },
  {
   "cell_type": "code",
   "execution_count": 14,
   "metadata": {},
   "outputs": [
    {
     "data": {
      "text/html": [
       "<div>\n",
       "<style scoped>\n",
       "    .dataframe tbody tr th:only-of-type {\n",
       "        vertical-align: middle;\n",
       "    }\n",
       "\n",
       "    .dataframe tbody tr th {\n",
       "        vertical-align: top;\n",
       "    }\n",
       "\n",
       "    .dataframe thead th {\n",
       "        text-align: right;\n",
       "    }\n",
       "</style>\n",
       "<table border=\"1\" class=\"dataframe\">\n",
       "  <thead>\n",
       "    <tr style=\"text-align: right;\">\n",
       "      <th></th>\n",
       "      <th>INCIDENT_NUMBER</th>\n",
       "      <th>OFFENSE_CODE</th>\n",
       "      <th>OFFENSE_DESCRIPTION</th>\n",
       "      <th>DISTRICT</th>\n",
       "      <th>REPORTING_AREA</th>\n",
       "      <th>OCCURRED_ON_DATE</th>\n",
       "      <th>YEAR</th>\n",
       "      <th>MONTH</th>\n",
       "      <th>DAY_OF_WEEK</th>\n",
       "      <th>HOUR</th>\n",
       "      <th>STREET</th>\n",
       "      <th>Lat</th>\n",
       "      <th>Long</th>\n",
       "      <th>Location</th>\n",
       "    </tr>\n",
       "  </thead>\n",
       "  <tbody>\n",
       "    <tr>\n",
       "      <th>1</th>\n",
       "      <td>S97333701</td>\n",
       "      <td>3301</td>\n",
       "      <td>VERBAL DISPUTE</td>\n",
       "      <td>C6</td>\n",
       "      <td>915</td>\n",
       "      <td>2020-07-18 14:34:00</td>\n",
       "      <td>2020</td>\n",
       "      <td>7</td>\n",
       "      <td>Saturday</td>\n",
       "      <td>14</td>\n",
       "      <td>MARY BOYLE WAY</td>\n",
       "      <td>42.330813</td>\n",
       "      <td>-71.051368</td>\n",
       "      <td>(42.33081300, -71.05136800)</td>\n",
       "    </tr>\n",
       "    <tr>\n",
       "      <th>2</th>\n",
       "      <td>S47513131</td>\n",
       "      <td>2647</td>\n",
       "      <td>THREATS TO DO BODILY HARM</td>\n",
       "      <td>E18</td>\n",
       "      <td>530</td>\n",
       "      <td>2020-06-24 10:15:00</td>\n",
       "      <td>2020</td>\n",
       "      <td>6</td>\n",
       "      <td>Wednesday</td>\n",
       "      <td>10</td>\n",
       "      <td>READVILLE ST</td>\n",
       "      <td>42.239491</td>\n",
       "      <td>-71.135954</td>\n",
       "      <td>(42.23949100, -71.13595400)</td>\n",
       "    </tr>\n",
       "    <tr>\n",
       "      <th>3</th>\n",
       "      <td>I92102201</td>\n",
       "      <td>3301</td>\n",
       "      <td>VERBAL DISPUTE</td>\n",
       "      <td>E13</td>\n",
       "      <td>583</td>\n",
       "      <td>2019-12-20 03:08:00</td>\n",
       "      <td>2019</td>\n",
       "      <td>12</td>\n",
       "      <td>Friday</td>\n",
       "      <td>3</td>\n",
       "      <td>DAY ST</td>\n",
       "      <td>42.325122</td>\n",
       "      <td>-71.107779</td>\n",
       "      <td>(42.32512200, -71.10777900)</td>\n",
       "    </tr>\n",
       "    <tr>\n",
       "      <th>4</th>\n",
       "      <td>I92097173</td>\n",
       "      <td>3115</td>\n",
       "      <td>INVESTIGATE PERSON</td>\n",
       "      <td>C11</td>\n",
       "      <td>355</td>\n",
       "      <td>2019-10-23 00:00:00</td>\n",
       "      <td>2019</td>\n",
       "      <td>10</td>\n",
       "      <td>Wednesday</td>\n",
       "      <td>0</td>\n",
       "      <td>GIBSON ST</td>\n",
       "      <td>42.297555</td>\n",
       "      <td>-71.059709</td>\n",
       "      <td>(42.29755500, -71.05970900)</td>\n",
       "    </tr>\n",
       "    <tr>\n",
       "      <th>5</th>\n",
       "      <td>I92094519</td>\n",
       "      <td>3126</td>\n",
       "      <td>WARRANT ARREST - OUTSIDE OF BOSTON WARRANT</td>\n",
       "      <td>D14</td>\n",
       "      <td>765</td>\n",
       "      <td>2019-11-22 07:50:00</td>\n",
       "      <td>2019</td>\n",
       "      <td>11</td>\n",
       "      <td>Friday</td>\n",
       "      <td>7</td>\n",
       "      <td>BROOKS ST</td>\n",
       "      <td>42.355120</td>\n",
       "      <td>-71.162678</td>\n",
       "      <td>(42.35512000, -71.16267800)</td>\n",
       "    </tr>\n",
       "  </tbody>\n",
       "</table>\n",
       "</div>"
      ],
      "text/plain": [
       "  INCIDENT_NUMBER  OFFENSE_CODE                         OFFENSE_DESCRIPTION  \\\n",
       "1       S97333701          3301                              VERBAL DISPUTE   \n",
       "2       S47513131          2647                   THREATS TO DO BODILY HARM   \n",
       "3       I92102201          3301                              VERBAL DISPUTE   \n",
       "4       I92097173          3115                          INVESTIGATE PERSON   \n",
       "5       I92094519          3126  WARRANT ARREST - OUTSIDE OF BOSTON WARRANT   \n",
       "\n",
       "  DISTRICT REPORTING_AREA     OCCURRED_ON_DATE  YEAR  MONTH DAY_OF_WEEK  HOUR  \\\n",
       "1       C6            915  2020-07-18 14:34:00  2020      7    Saturday    14   \n",
       "2      E18            530  2020-06-24 10:15:00  2020      6   Wednesday    10   \n",
       "3      E13            583  2019-12-20 03:08:00  2019     12      Friday     3   \n",
       "4      C11            355  2019-10-23 00:00:00  2019     10   Wednesday     0   \n",
       "5      D14            765  2019-11-22 07:50:00  2019     11      Friday     7   \n",
       "\n",
       "           STREET        Lat       Long                     Location  \n",
       "1  MARY BOYLE WAY  42.330813 -71.051368  (42.33081300, -71.05136800)  \n",
       "2    READVILLE ST  42.239491 -71.135954  (42.23949100, -71.13595400)  \n",
       "3          DAY ST  42.325122 -71.107779  (42.32512200, -71.10777900)  \n",
       "4       GIBSON ST  42.297555 -71.059709  (42.29755500, -71.05970900)  \n",
       "5       BROOKS ST  42.355120 -71.162678  (42.35512000, -71.16267800)  "
      ]
     },
     "execution_count": 14,
     "metadata": {},
     "output_type": "execute_result"
    }
   ],
   "source": [
    "df.head()"
   ]
  },
  {
   "cell_type": "code",
   "execution_count": 15,
   "metadata": {},
   "outputs": [
    {
     "data": {
      "text/plain": [
       "<AxesSubplot:>"
      ]
     },
     "execution_count": 15,
     "metadata": {},
     "output_type": "execute_result"
    },
    {
     "data": {
      "image/png": "[encoded data removed]",
      "text/plain": [
       "<Figure size 432x288 with 1 Axes>"
      ]
     },
     "metadata": {
      "needs_background": "light"
     },
     "output_type": "display_data"
    }
   ],
   "source": [
    "df.YEAR.value_counts().plot(kind='bar')"
   ]
  },
  {
   "cell_type": "code",
   "execution_count": 16,
   "metadata": {},
   "outputs": [
    {
     "data": {
      "text/plain": [
       "INVESTIGATE PERSON                           6340\n",
       "SICK/INJURED/MEDICAL - PERSON                5914\n",
       "VANDALISM                                    4584\n",
       "M/V - LEAVING SCENE - PROPERTY DAMAGE        4521\n",
       "VERBAL DISPUTE                               4387\n",
       "                                             ... \n",
       "PROSTITUTION - ASSISTING OR PROMOTING           1\n",
       "PRISONER ATTEMPT TO RESCUE                      1\n",
       "DRUGS - CLASS D TRAFFICKING OVER 50 GRAMS       1\n",
       "HUMAN TRAFFICKING - INVOLUNTARY SERVITUDE       1\n",
       "FIREARM/WEAPON - LOST                           1\n",
       "Name: OFFENSE_DESCRIPTION, Length: 191, dtype: int64"
      ]
     },
     "execution_count": 16,
     "metadata": {},
     "output_type": "execute_result"
    }
   ],
   "source": [
    "year17=df[df.YEAR.isin([2017])]\n",
    "year17.OFFENSE_DESCRIPTION.value_counts()"
   ]
  },
  {
   "cell_type": "code",
   "execution_count": 17,
   "metadata": {},
   "outputs": [
    {
     "data": {
      "text/plain": [
       "INVESTIGATE PERSON                              5514\n",
       "SICK/INJURED/MEDICAL - PERSON                   5208\n",
       "VANDALISM                                       4742\n",
       "M/V - LEAVING SCENE - PROPERTY DAMAGE           4430\n",
       "ASSAULT SIMPLE - BATTERY                        4162\n",
       "                                                ... \n",
       "AUTO THEFT OTHER                                   1\n",
       "DRUGS - CLASS D TRAFFICKING OVER 50 GRAMS          1\n",
       "A&B HANDS, FEET, ETC.  - MED. ATTENTION REQ.       1\n",
       "PRISONER ESCAPE / ESCAPE & RECAPTURE               1\n",
       "AUTO THEFT - OUTSIDE - RECOVERED IN BOSTON         1\n",
       "Name: OFFENSE_DESCRIPTION, Length: 208, dtype: int64"
      ]
     },
     "execution_count": 17,
     "metadata": {},
     "output_type": "execute_result"
    }
   ],
   "source": [
    "year16=df[df.YEAR.isin([2016])]\n",
    "year16.OFFENSE_DESCRIPTION.value_counts()"
   ]
  },
  {
   "cell_type": "code",
   "execution_count": 18,
   "metadata": {},
   "outputs": [
    {
     "data": {
      "text/plain": [
       "VANDALISM                                2623\n",
       "M/V - LEAVING SCENE - PROPERTY DAMAGE    2469\n",
       "INVESTIGATE PERSON                       2458\n",
       "SICK/INJURED/MEDICAL - PERSON            2323\n",
       "ASSAULT SIMPLE - BATTERY                 2308\n",
       "                                         ... \n",
       "FIREARM/WEAPON - CARRY - SELL - RENT        1\n",
       "PROPERTY - CONCEALING LEASED                1\n",
       "PROTECTIVE CUSTODY / SAFEKEEPING            1\n",
       "ASSAULT D/W - KNIFE ON POLICE OFFICER       1\n",
       "WEAPON - FIREARM - SALE / TRAFFICKING       1\n",
       "Name: OFFENSE_DESCRIPTION, Length: 213, dtype: int64"
      ]
     },
     "execution_count": 18,
     "metadata": {},
     "output_type": "execute_result"
    }
   ],
   "source": [
    "year15=df[df.YEAR.isin([2015])]\n",
    "year15.OFFENSE_DESCRIPTION.value_counts()"
   ]
  },
  {
   "cell_type": "code",
   "execution_count": 19,
   "metadata": {},
   "outputs": [
    {
     "data": {
      "text/plain": [
       "SICK/INJURED/MEDICAL - PERSON                 6445\n",
       "INVESTIGATE PERSON                            5248\n",
       "ASSAULT SIMPLE - BATTERY                      4568\n",
       "VERBAL DISPUTE                                4362\n",
       "M/V - LEAVING SCENE - PROPERTY DAMAGE         4347\n",
       "                                              ... \n",
       "EXPLOSIVES - TURNED IN OR FOUND                  2\n",
       "PRISONER ESCAPE / ESCAPE & RECAPTURE             2\n",
       "FIREARM/WEAPON - ACCIDENTAL INJURY / DEATH       2\n",
       "PROSTITUTION - ASSISTING OR PROMOTING            1\n",
       "CONTRIBUTING TO DELINQUENCY OF MINOR             1\n",
       "Name: OFFENSE_DESCRIPTION, Length: 184, dtype: int64"
      ]
     },
     "execution_count": 19,
     "metadata": {},
     "output_type": "execute_result"
    }
   ],
   "source": [
    "year18=df[df.YEAR.isin([2018])]\n",
    "year18.OFFENSE_DESCRIPTION.value_counts()"
   ]
  },
  {
   "cell_type": "code",
   "execution_count": 20,
   "metadata": {},
   "outputs": [
    {
     "data": {
      "text/plain": [
       "SICK/INJURED/MEDICAL - PERSON                 5912\n",
       "INVESTIGATE PERSON                            5798\n",
       "VERBAL DISPUTE                                5278\n",
       "M/V - LEAVING SCENE - PROPERTY DAMAGE         4332\n",
       "VANDALISM                                     3865\n",
       "                                              ... \n",
       "FIREARM/WEAPON - ACCIDENTAL INJURY / DEATH       1\n",
       "BIOLOGICAL THREATS                               1\n",
       "WEAPON - FIREARM - SALE / TRAFFICKING            1\n",
       "MANSLAUGHTER - VEHICLE - NEGLIGENCE              1\n",
       "PRISONER ESCAPE / ESCAPE & RECAPTURE             1\n",
       "Name: OFFENSE_DESCRIPTION, Length: 220, dtype: int64"
      ]
     },
     "execution_count": 20,
     "metadata": {},
     "output_type": "execute_result"
    }
   ],
   "source": [
    "year19=df[df.YEAR.isin([2019])]\n",
    "year19.OFFENSE_DESCRIPTION.value_counts()"
   ]
  },
  {
   "cell_type": "code",
   "execution_count": 21,
   "metadata": {},
   "outputs": [
    {
     "data": {
      "text/plain": [
       "VERBAL DISPUTE                                7150\n",
       "INVESTIGATE PERSON                            6082\n",
       "ASSAULT - SIMPLE                              4134\n",
       "SICK ASSIST                                   3524\n",
       "VANDALISM                                     2900\n",
       "                                              ... \n",
       "OBSCENE PHONE CALLS                              2\n",
       "FIREARM/WEAPON - ACCIDENTAL INJURY / DEATH       2\n",
       "FIREARM/WEAPON - LOST                            2\n",
       "Justifiable Homicide                             1\n",
       "BIOLOGICAL THREATS                               1\n",
       "Name: OFFENSE_DESCRIPTION, Length: 130, dtype: int64"
      ]
     },
     "execution_count": 21,
     "metadata": {},
     "output_type": "execute_result"
    }
   ],
   "source": [
    "year20=df[df.YEAR.isin([2020])]\n",
    "year20.OFFENSE_DESCRIPTION.value_counts()"
   ]
  },
  {
   "cell_type": "code",
   "execution_count": 22,
   "metadata": {},
   "outputs": [],
   "source": [
    "yearcount=df['YEAR'].groupby(df['YEAR']).agg('count')"
   ]
  },
  {
   "cell_type": "markdown",
   "metadata": {},
   "source": [
    "## What year has the highest amount of crime recorded?\n",
    "\n",
    "The year in which the most crimes was recorded in Boston was in 2017 with a total of 93437 crimes reported. The following are the breakdowns  of the the years and amount of crimes recorded.\n",
    "\n",
    "| YEARS       |      CRIMES RECORDED |\n",
    "|----------   |---------------------|\n",
    "|2017         |        93437         | \n",
    "|2016         |        91764         |\n",
    "|2018         |         91540        |\n",
    "|2019         |         89954        |\n",
    "|2020         |         68508        |\n",
    "|2015         |         51450        |\n",
    "\n",
    "\n",
    "According to our research, the rate of these crimes do change with every year. See table below for more information.\n",
    "\n",
    "\n",
    "| YEARS       |     TOP CRIME  |\n",
    "|----------   |---------------------|\n",
    "|2017         |       VANDALISM | \n",
    "|2016         |        VANDALISM          |\n",
    "|2018         |         BATTERY        |\n",
    "|2019         |         VERBAL DISPUTE        |\n",
    "|2020         |         VERBAL DISPUTE        |\n",
    "|2015         |         VANDALISM       |"
   ]
  },
  {
   "cell_type": "code",
   "execution_count": 23,
   "metadata": {},
   "outputs": [
    {
     "data": {
      "text/html": [
       "<div>\n",
       "<style scoped>\n",
       "    .dataframe tbody tr th:only-of-type {\n",
       "        vertical-align: middle;\n",
       "    }\n",
       "\n",
       "    .dataframe tbody tr th {\n",
       "        vertical-align: top;\n",
       "    }\n",
       "\n",
       "    .dataframe thead th {\n",
       "        text-align: right;\n",
       "    }\n",
       "</style>\n",
       "<table border=\"1\" class=\"dataframe\">\n",
       "  <thead>\n",
       "    <tr style=\"text-align: right;\">\n",
       "      <th></th>\n",
       "      <th>INCIDENT_NUMBER</th>\n",
       "      <th>OFFENSE_CODE</th>\n",
       "      <th>OFFENSE_DESCRIPTION</th>\n",
       "      <th>DISTRICT</th>\n",
       "      <th>REPORTING_AREA</th>\n",
       "      <th>OCCURRED_ON_DATE</th>\n",
       "      <th>YEAR</th>\n",
       "      <th>MONTH</th>\n",
       "      <th>DAY_OF_WEEK</th>\n",
       "      <th>HOUR</th>\n",
       "      <th>STREET</th>\n",
       "      <th>Lat</th>\n",
       "      <th>Long</th>\n",
       "      <th>Location</th>\n",
       "    </tr>\n",
       "  </thead>\n",
       "  <tbody>\n",
       "    <tr>\n",
       "      <th>3845</th>\n",
       "      <td>I192074488</td>\n",
       "      <td>619</td>\n",
       "      <td>LARCENY ALL OTHERS</td>\n",
       "      <td>C11</td>\n",
       "      <td>351</td>\n",
       "      <td>2017-08-23 00:00:00</td>\n",
       "      <td>2017</td>\n",
       "      <td>8</td>\n",
       "      <td>Wednesday</td>\n",
       "      <td>0</td>\n",
       "      <td>ADAMS ST</td>\n",
       "      <td>42.300605</td>\n",
       "      <td>-71.059230</td>\n",
       "      <td>(42.30060526, -71.05923027)</td>\n",
       "    </tr>\n",
       "    <tr>\n",
       "      <th>4729</th>\n",
       "      <td>I192073511</td>\n",
       "      <td>1107</td>\n",
       "      <td>FRAUD - IMPERSONATION</td>\n",
       "      <td>B3</td>\n",
       "      <td>435</td>\n",
       "      <td>2017-02-21 00:01:00</td>\n",
       "      <td>2017</td>\n",
       "      <td>2</td>\n",
       "      <td>Tuesday</td>\n",
       "      <td>0</td>\n",
       "      <td>ARMANDINE ST</td>\n",
       "      <td>42.284315</td>\n",
       "      <td>-71.074108</td>\n",
       "      <td>(42.28431486, -71.07410838)</td>\n",
       "    </tr>\n",
       "    <tr>\n",
       "      <th>5047</th>\n",
       "      <td>I192073187</td>\n",
       "      <td>2629</td>\n",
       "      <td>HARASSMENT</td>\n",
       "      <td>C6</td>\n",
       "      <td>231</td>\n",
       "      <td>2017-07-13 00:00:00</td>\n",
       "      <td>2017</td>\n",
       "      <td>7</td>\n",
       "      <td>Thursday</td>\n",
       "      <td>0</td>\n",
       "      <td>E FIFTH ST</td>\n",
       "      <td>42.333989</td>\n",
       "      <td>-71.032606</td>\n",
       "      <td>(42.33398889, -71.03260574)</td>\n",
       "    </tr>\n",
       "    <tr>\n",
       "      <th>5304</th>\n",
       "      <td>I192072907</td>\n",
       "      <td>802</td>\n",
       "      <td>ASSAULT SIMPLE - BATTERY</td>\n",
       "      <td>D4</td>\n",
       "      <td>171</td>\n",
       "      <td>2017-09-01 16:32:00</td>\n",
       "      <td>2017</td>\n",
       "      <td>9</td>\n",
       "      <td>Friday</td>\n",
       "      <td>16</td>\n",
       "      <td>HARRISON AVE</td>\n",
       "      <td>42.335119</td>\n",
       "      <td>-71.074917</td>\n",
       "      <td>(42.33511904, -71.07491710)</td>\n",
       "    </tr>\n",
       "    <tr>\n",
       "      <th>5311</th>\n",
       "      <td>I192072900</td>\n",
       "      <td>1102</td>\n",
       "      <td>FRAUD - FALSE PRETENSE / SCHEME</td>\n",
       "      <td>D4</td>\n",
       "      <td>151</td>\n",
       "      <td>2017-09-01 00:00:00</td>\n",
       "      <td>2017</td>\n",
       "      <td>9</td>\n",
       "      <td>Friday</td>\n",
       "      <td>0</td>\n",
       "      <td>WARREN AVE</td>\n",
       "      <td>42.345163</td>\n",
       "      <td>-71.071291</td>\n",
       "      <td>(42.34516350, -71.07129114)</td>\n",
       "    </tr>\n",
       "  </tbody>\n",
       "</table>\n",
       "</div>"
      ],
      "text/plain": [
       "     INCIDENT_NUMBER  OFFENSE_CODE              OFFENSE_DESCRIPTION DISTRICT  \\\n",
       "3845      I192074488           619               LARCENY ALL OTHERS      C11   \n",
       "4729      I192073511          1107            FRAUD - IMPERSONATION       B3   \n",
       "5047      I192073187          2629                       HARASSMENT       C6   \n",
       "5304      I192072907           802         ASSAULT SIMPLE - BATTERY       D4   \n",
       "5311      I192072900          1102  FRAUD - FALSE PRETENSE / SCHEME       D4   \n",
       "\n",
       "     REPORTING_AREA     OCCURRED_ON_DATE  YEAR  MONTH DAY_OF_WEEK  HOUR  \\\n",
       "3845            351  2017-08-23 00:00:00  2017      8   Wednesday     0   \n",
       "4729            435  2017-02-21 00:01:00  2017      2     Tuesday     0   \n",
       "5047            231  2017-07-13 00:00:00  2017      7    Thursday     0   \n",
       "5304            171  2017-09-01 16:32:00  2017      9      Friday    16   \n",
       "5311            151  2017-09-01 00:00:00  2017      9      Friday     0   \n",
       "\n",
       "            STREET        Lat       Long                     Location  \n",
       "3845      ADAMS ST  42.300605 -71.059230  (42.30060526, -71.05923027)  \n",
       "4729  ARMANDINE ST  42.284315 -71.074108  (42.28431486, -71.07410838)  \n",
       "5047    E FIFTH ST  42.333989 -71.032606  (42.33398889, -71.03260574)  \n",
       "5304  HARRISON AVE  42.335119 -71.074917  (42.33511904, -71.07491710)  \n",
       "5311    WARREN AVE  42.345163 -71.071291  (42.34516350, -71.07129114)  "
      ]
     },
     "execution_count": 23,
     "metadata": {},
     "output_type": "execute_result"
    }
   ],
   "source": [
    "year17.head()"
   ]
  },
  {
   "cell_type": "code",
   "execution_count": 24,
   "metadata": {},
   "outputs": [
    {
     "data": {
      "text/plain": [
       "array([ 8,  2,  7,  9, 11, 12,  3,  5,  1,  6,  4, 10], dtype=int64)"
      ]
     },
     "execution_count": 24,
     "metadata": {},
     "output_type": "execute_result"
    }
   ],
   "source": [
    "year17.MONTH.unique()"
   ]
  },
  {
   "cell_type": "code",
   "execution_count": 25,
   "metadata": {},
   "outputs": [
    {
     "data": {
      "text/plain": [
       "MONTH\n",
       "1    7457\n",
       "2    6852\n",
       "3    7531\n",
       "4    7485\n",
       "5    8081\n",
       "Name: MONTH, dtype: int64"
      ]
     },
     "execution_count": 25,
     "metadata": {},
     "output_type": "execute_result"
    }
   ],
   "source": [
    "year17['MONTH'].groupby(year17['MONTH']).agg('count').head()"
   ]
  },
  {
   "cell_type": "code",
   "execution_count": 26,
   "metadata": {},
   "outputs": [
    {
     "data": {
      "text/plain": [
       "8     7400\n",
       "1     7092\n",
       "9     7058\n",
       "10    6971\n",
       "7     6832\n",
       "Name: MONTH, dtype: int64"
      ]
     },
     "execution_count": 26,
     "metadata": {},
     "output_type": "execute_result"
    }
   ],
   "source": [
    "year20.MONTH.value_counts().head()"
   ]
  },
  {
   "cell_type": "code",
   "execution_count": 27,
   "metadata": {},
   "outputs": [
    {
     "data": {
      "text/plain": [
       "8     48703\n",
       "7     47519\n",
       "9     46943\n",
       "10    46140\n",
       "6     43170\n",
       "Name: MONTH, dtype: int64"
      ]
     },
     "execution_count": 27,
     "metadata": {},
     "output_type": "execute_result"
    }
   ],
   "source": [
    "df.MONTH.value_counts().head()"
   ]
  },
  {
   "cell_type": "code",
   "execution_count": 28,
   "metadata": {},
   "outputs": [
    {
     "data": {
      "text/plain": [
       "Friday       74000\n",
       "Wednesday    71250\n",
       "Thursday     70696\n",
       "Tuesday      70153\n",
       "Monday       70110\n",
       "Saturday     68412\n",
       "Sunday       62032\n",
       "Name: DAY_OF_WEEK, dtype: int64"
      ]
     },
     "execution_count": 28,
     "metadata": {},
     "output_type": "execute_result"
    }
   ],
   "source": [
    "df.DAY_OF_WEEK.value_counts("
   ]
  },
  {
   "cell_type": "markdown",
   "metadata": {},
   "source": [
    "## Prior to the above question, in what month did most of the crime take place and on what day?\n",
    "\n",
    " * Prior to the last question which says 2017 has the highest crime recorded. In 2017, the month with the highest crime recorded is the month of october with a total of 8449 crimes recorded.  \n",
    " * In the case of summing all the years together, the month of october still has the most crime recorded with a total of 48703 crimes recorded.\n",
    " * In the case of 2015, the month with the highest crime recorded was August with a total of 8085 crimes recorded.\n",
    " * In 2018, the month with the highest crime recorded is the month of May with a total of 8360 crimes recorded.\n",
    " * For 2016,2017,2019 and 2020, the month with the highest number of crime recorded is october.\n",
    " \n",
    "According to our analysis, the days in which the most crimes were reported on is Fridays, from 2015 down to 2020. It has a total number of 74,000 crimes reported."
   ]
  },
  {
   "cell_type": "code",
   "execution_count": 29,
   "metadata": {},
   "outputs": [
    {
     "data": {
      "text/html": [
       "<div>\n",
       "<style scoped>\n",
       "    .dataframe tbody tr th:only-of-type {\n",
       "        vertical-align: middle;\n",
       "    }\n",
       "\n",
       "    .dataframe tbody tr th {\n",
       "        vertical-align: top;\n",
       "    }\n",
       "\n",
       "    .dataframe thead th {\n",
       "        text-align: right;\n",
       "    }\n",
       "</style>\n",
       "<table border=\"1\" class=\"dataframe\">\n",
       "  <thead>\n",
       "    <tr style=\"text-align: right;\">\n",
       "      <th></th>\n",
       "      <th>INCIDENT_NUMBER</th>\n",
       "      <th>OFFENSE_CODE</th>\n",
       "      <th>OFFENSE_DESCRIPTION</th>\n",
       "      <th>DISTRICT</th>\n",
       "      <th>REPORTING_AREA</th>\n",
       "      <th>OCCURRED_ON_DATE</th>\n",
       "      <th>YEAR</th>\n",
       "      <th>MONTH</th>\n",
       "      <th>DAY_OF_WEEK</th>\n",
       "      <th>HOUR</th>\n",
       "      <th>STREET</th>\n",
       "      <th>Lat</th>\n",
       "      <th>Long</th>\n",
       "      <th>Location</th>\n",
       "    </tr>\n",
       "  </thead>\n",
       "  <tbody>\n",
       "    <tr>\n",
       "      <th>1</th>\n",
       "      <td>S97333701</td>\n",
       "      <td>3301</td>\n",
       "      <td>VERBAL DISPUTE</td>\n",
       "      <td>C6</td>\n",
       "      <td>915</td>\n",
       "      <td>2020-07-18 14:34:00</td>\n",
       "      <td>2020</td>\n",
       "      <td>7</td>\n",
       "      <td>Saturday</td>\n",
       "      <td>14</td>\n",
       "      <td>MARY BOYLE WAY</td>\n",
       "      <td>42.330813</td>\n",
       "      <td>-71.051368</td>\n",
       "      <td>(42.33081300, -71.05136800)</td>\n",
       "    </tr>\n",
       "    <tr>\n",
       "      <th>2</th>\n",
       "      <td>S47513131</td>\n",
       "      <td>2647</td>\n",
       "      <td>THREATS TO DO BODILY HARM</td>\n",
       "      <td>E18</td>\n",
       "      <td>530</td>\n",
       "      <td>2020-06-24 10:15:00</td>\n",
       "      <td>2020</td>\n",
       "      <td>6</td>\n",
       "      <td>Wednesday</td>\n",
       "      <td>10</td>\n",
       "      <td>READVILLE ST</td>\n",
       "      <td>42.239491</td>\n",
       "      <td>-71.135954</td>\n",
       "      <td>(42.23949100, -71.13595400)</td>\n",
       "    </tr>\n",
       "    <tr>\n",
       "      <th>3</th>\n",
       "      <td>I92102201</td>\n",
       "      <td>3301</td>\n",
       "      <td>VERBAL DISPUTE</td>\n",
       "      <td>E13</td>\n",
       "      <td>583</td>\n",
       "      <td>2019-12-20 03:08:00</td>\n",
       "      <td>2019</td>\n",
       "      <td>12</td>\n",
       "      <td>Friday</td>\n",
       "      <td>3</td>\n",
       "      <td>DAY ST</td>\n",
       "      <td>42.325122</td>\n",
       "      <td>-71.107779</td>\n",
       "      <td>(42.32512200, -71.10777900)</td>\n",
       "    </tr>\n",
       "    <tr>\n",
       "      <th>4</th>\n",
       "      <td>I92097173</td>\n",
       "      <td>3115</td>\n",
       "      <td>INVESTIGATE PERSON</td>\n",
       "      <td>C11</td>\n",
       "      <td>355</td>\n",
       "      <td>2019-10-23 00:00:00</td>\n",
       "      <td>2019</td>\n",
       "      <td>10</td>\n",
       "      <td>Wednesday</td>\n",
       "      <td>0</td>\n",
       "      <td>GIBSON ST</td>\n",
       "      <td>42.297555</td>\n",
       "      <td>-71.059709</td>\n",
       "      <td>(42.29755500, -71.05970900)</td>\n",
       "    </tr>\n",
       "    <tr>\n",
       "      <th>5</th>\n",
       "      <td>I92094519</td>\n",
       "      <td>3126</td>\n",
       "      <td>WARRANT ARREST - OUTSIDE OF BOSTON WARRANT</td>\n",
       "      <td>D14</td>\n",
       "      <td>765</td>\n",
       "      <td>2019-11-22 07:50:00</td>\n",
       "      <td>2019</td>\n",
       "      <td>11</td>\n",
       "      <td>Friday</td>\n",
       "      <td>7</td>\n",
       "      <td>BROOKS ST</td>\n",
       "      <td>42.355120</td>\n",
       "      <td>-71.162678</td>\n",
       "      <td>(42.35512000, -71.16267800)</td>\n",
       "    </tr>\n",
       "  </tbody>\n",
       "</table>\n",
       "</div>"
      ],
      "text/plain": [
       "  INCIDENT_NUMBER  OFFENSE_CODE                         OFFENSE_DESCRIPTION  \\\n",
       "1       S97333701          3301                              VERBAL DISPUTE   \n",
       "2       S47513131          2647                   THREATS TO DO BODILY HARM   \n",
       "3       I92102201          3301                              VERBAL DISPUTE   \n",
       "4       I92097173          3115                          INVESTIGATE PERSON   \n",
       "5       I92094519          3126  WARRANT ARREST - OUTSIDE OF BOSTON WARRANT   \n",
       "\n",
       "  DISTRICT REPORTING_AREA     OCCURRED_ON_DATE  YEAR  MONTH DAY_OF_WEEK  HOUR  \\\n",
       "1       C6            915  2020-07-18 14:34:00  2020      7    Saturday    14   \n",
       "2      E18            530  2020-06-24 10:15:00  2020      6   Wednesday    10   \n",
       "3      E13            583  2019-12-20 03:08:00  2019     12      Friday     3   \n",
       "4      C11            355  2019-10-23 00:00:00  2019     10   Wednesday     0   \n",
       "5      D14            765  2019-11-22 07:50:00  2019     11      Friday     7   \n",
       "\n",
       "           STREET        Lat       Long                     Location  \n",
       "1  MARY BOYLE WAY  42.330813 -71.051368  (42.33081300, -71.05136800)  \n",
       "2    READVILLE ST  42.239491 -71.135954  (42.23949100, -71.13595400)  \n",
       "3          DAY ST  42.325122 -71.107779  (42.32512200, -71.10777900)  \n",
       "4       GIBSON ST  42.297555 -71.059709  (42.29755500, -71.05970900)  \n",
       "5       BROOKS ST  42.355120 -71.162678  (42.35512000, -71.16267800)  "
      ]
     },
     "execution_count": 29,
     "metadata": {},
     "output_type": "execute_result"
    }
   ],
   "source": [
    "df.head()"
   ]
  },
  {
   "cell_type": "code",
   "execution_count": 30,
   "metadata": {},
   "outputs": [
    {
     "data": {
      "text/plain": [
       "0"
      ]
     },
     "execution_count": 30,
     "metadata": {},
     "output_type": "execute_result"
    }
   ],
   "source": [
    "df.HOUR.min()"
   ]
  },
  {
   "cell_type": "code",
   "execution_count": 31,
   "metadata": {},
   "outputs": [
    {
     "data": {
      "text/plain": [
       "17    30785\n",
       "16    30214\n",
       "18    30072\n",
       "12    28881\n",
       "19    26554\n",
       "14    26208\n",
       "13    25766\n",
       "0     25597\n",
       "15    25275\n",
       "11    25116\n",
       "10    24740\n",
       "20    24373\n",
       "9     22509\n",
       "21    21849\n",
       "22    19889\n",
       "8     19601\n",
       "23    16225\n",
       "1     13586\n",
       "7     13404\n",
       "2     11235\n",
       "6      7502\n",
       "3      6927\n",
       "4      5222\n",
       "5      5123\n",
       "Name: HOUR, dtype: int64"
      ]
     },
     "execution_count": 31,
     "metadata": {},
     "output_type": "execute_result"
    }
   ],
   "source": [
    "df.HOUR.value_counts()"
   ]
  },
  {
   "cell_type": "code",
   "execution_count": 32,
   "metadata": {},
   "outputs": [
    {
     "data": {
      "text/html": [
       "<div>\n",
       "<style scoped>\n",
       "    .dataframe tbody tr th:only-of-type {\n",
       "        vertical-align: middle;\n",
       "    }\n",
       "\n",
       "    .dataframe tbody tr th {\n",
       "        vertical-align: top;\n",
       "    }\n",
       "\n",
       "    .dataframe thead th {\n",
       "        text-align: right;\n",
       "    }\n",
       "</style>\n",
       "<table border=\"1\" class=\"dataframe\">\n",
       "  <thead>\n",
       "    <tr style=\"text-align: right;\">\n",
       "      <th></th>\n",
       "      <th>INCIDENT_NUMBER</th>\n",
       "      <th>OFFENSE_CODE</th>\n",
       "      <th>OFFENSE_DESCRIPTION</th>\n",
       "      <th>DISTRICT</th>\n",
       "      <th>REPORTING_AREA</th>\n",
       "      <th>OCCURRED_ON_DATE</th>\n",
       "      <th>YEAR</th>\n",
       "      <th>MONTH</th>\n",
       "      <th>DAY_OF_WEEK</th>\n",
       "      <th>HOUR</th>\n",
       "      <th>STREET</th>\n",
       "      <th>Lat</th>\n",
       "      <th>Long</th>\n",
       "      <th>Location</th>\n",
       "    </tr>\n",
       "  </thead>\n",
       "  <tbody>\n",
       "    <tr>\n",
       "      <th>12</th>\n",
       "      <td>I20207883</td>\n",
       "      <td>3115</td>\n",
       "      <td>INVESTIGATE PERSON</td>\n",
       "      <td>C6</td>\n",
       "      <td>914</td>\n",
       "      <td>2020-04-18 17:11:00</td>\n",
       "      <td>2020</td>\n",
       "      <td>4</td>\n",
       "      <td>Saturday</td>\n",
       "      <td>17</td>\n",
       "      <td>OLD COLONY AVE</td>\n",
       "      <td>42.325573</td>\n",
       "      <td>-71.052481</td>\n",
       "      <td>(42.32557300, -71.05248100)</td>\n",
       "    </tr>\n",
       "    <tr>\n",
       "      <th>32</th>\n",
       "      <td>I20000994</td>\n",
       "      <td>3005</td>\n",
       "      <td>SICK ASSIST</td>\n",
       "      <td>A7</td>\n",
       "      <td>28</td>\n",
       "      <td>2020-01-04 17:50:00</td>\n",
       "      <td>2020</td>\n",
       "      <td>1</td>\n",
       "      <td>Saturday</td>\n",
       "      <td>17</td>\n",
       "      <td>MERIDIAN ST</td>\n",
       "      <td>42.371005</td>\n",
       "      <td>-71.038976</td>\n",
       "      <td>(42.37100500, -71.03897600)</td>\n",
       "    </tr>\n",
       "    <tr>\n",
       "      <th>154</th>\n",
       "      <td>I192078518</td>\n",
       "      <td>3503</td>\n",
       "      <td>MISSING PERSON - NOT REPORTED - LOCATED</td>\n",
       "      <td>E5</td>\n",
       "      <td>672</td>\n",
       "      <td>2019-09-28 17:47:00</td>\n",
       "      <td>2019</td>\n",
       "      <td>9</td>\n",
       "      <td>Saturday</td>\n",
       "      <td>17</td>\n",
       "      <td>TYNDALE ST</td>\n",
       "      <td>42.287186</td>\n",
       "      <td>-71.136805</td>\n",
       "      <td>(42.28718557, -71.13680491)</td>\n",
       "    </tr>\n",
       "    <tr>\n",
       "      <th>155</th>\n",
       "      <td>I192078517</td>\n",
       "      <td>3301</td>\n",
       "      <td>VERBAL DISPUTE</td>\n",
       "      <td>B3</td>\n",
       "      <td>445</td>\n",
       "      <td>2019-09-28 17:33:00</td>\n",
       "      <td>2019</td>\n",
       "      <td>9</td>\n",
       "      <td>Saturday</td>\n",
       "      <td>17</td>\n",
       "      <td>GREENWOOD ST</td>\n",
       "      <td>42.300077</td>\n",
       "      <td>-71.079902</td>\n",
       "      <td>(42.30007731, -71.07990164)</td>\n",
       "    </tr>\n",
       "    <tr>\n",
       "      <th>156</th>\n",
       "      <td>I192078516</td>\n",
       "      <td>3301</td>\n",
       "      <td>VERBAL DISPUTE</td>\n",
       "      <td>B2</td>\n",
       "      <td>330</td>\n",
       "      <td>2019-09-28 17:58:00</td>\n",
       "      <td>2019</td>\n",
       "      <td>9</td>\n",
       "      <td>Saturday</td>\n",
       "      <td>17</td>\n",
       "      <td>BLUE HILL AVE</td>\n",
       "      <td>42.307036</td>\n",
       "      <td>-71.084102</td>\n",
       "      <td>(42.30703587, -71.08410227)</td>\n",
       "    </tr>\n",
       "  </tbody>\n",
       "</table>\n",
       "</div>"
      ],
      "text/plain": [
       "    INCIDENT_NUMBER  OFFENSE_CODE                      OFFENSE_DESCRIPTION  \\\n",
       "12        I20207883          3115                       INVESTIGATE PERSON   \n",
       "32        I20000994          3005                              SICK ASSIST   \n",
       "154      I192078518          3503  MISSING PERSON - NOT REPORTED - LOCATED   \n",
       "155      I192078517          3301                           VERBAL DISPUTE   \n",
       "156      I192078516          3301                           VERBAL DISPUTE   \n",
       "\n",
       "    DISTRICT REPORTING_AREA     OCCURRED_ON_DATE  YEAR  MONTH DAY_OF_WEEK  \\\n",
       "12        C6            914  2020-04-18 17:11:00  2020      4    Saturday   \n",
       "32        A7             28  2020-01-04 17:50:00  2020      1    Saturday   \n",
       "154       E5            672  2019-09-28 17:47:00  2019      9    Saturday   \n",
       "155       B3            445  2019-09-28 17:33:00  2019      9    Saturday   \n",
       "156       B2            330  2019-09-28 17:58:00  2019      9    Saturday   \n",
       "\n",
       "     HOUR          STREET        Lat       Long                     Location  \n",
       "12     17  OLD COLONY AVE  42.325573 -71.052481  (42.32557300, -71.05248100)  \n",
       "32     17     MERIDIAN ST  42.371005 -71.038976  (42.37100500, -71.03897600)  \n",
       "154    17      TYNDALE ST  42.287186 -71.136805  (42.28718557, -71.13680491)  \n",
       "155    17    GREENWOOD ST  42.300077 -71.079902  (42.30007731, -71.07990164)  \n",
       "156    17   BLUE HILL AVE  42.307036 -71.084102  (42.30703587, -71.08410227)  "
      ]
     },
     "execution_count": 32,
     "metadata": {},
     "output_type": "execute_result"
    }
   ],
   "source": [
    "hour=df[df.HOUR==17]\n",
    "hour.head()"
   ]
  },
  {
   "cell_type": "markdown",
   "metadata": {},
   "source": [
    " * Based on our analysis, it been confirmed that most of these crimes usually occur around the hours of 4pm to 7pm with a total of 117625 crimes recorded within these hours. \n",
    " * The hour with the most crime recorded is 5pm with a total number of 30785 crimes. \n",
    " * The crime with the highest number of records around 5pm is Proprty Damage."
   ]
  }
 ],
 "metadata": {
  "kernelspec": {
   "display_name": "Python 3",
   "language": "python",
   "name": "python3"
  },
  "language_info": {
   "codemirror_mode": {
    "name": "ipython",
    "version": 3
   },
   "file_extension": ".py",
   "mimetype": "text/x-python",
   "name": "python",
   "nbconvert_exporter": "python",
   "pygments_lexer": "ipython3",
   "version": "3.8.5"
  }
 },
 "nbformat": 4,
 "nbformat_minor": 4
}
